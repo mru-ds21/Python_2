{
  "nbformat": 4,
  "nbformat_minor": 0,
  "metadata": {
    "colab": {
      "provenance": [],
      "authorship_tag": "ABX9TyMtXfGbS4+owQyi/+I6ScyY"
    },
    "kernelspec": {
      "name": "python3",
      "display_name": "Python 3"
    },
    "language_info": {
      "name": "python"
    }
  },
  "cells": [
    {
      "cell_type": "code",
      "source": [
        "x=5\n",
        "for i in range(1,x+1):\n",
        "  patt=\" \"\n",
        "  for j in range(x-i):\n",
        "    print(' ', end='')\n",
        "\n",
        "  print(\"*\"*i)     "
      ],
      "metadata": {
        "colab": {
          "base_uri": "https://localhost:8080/"
        },
        "id": "qF7T7AkAO4vB",
        "outputId": "b67a4d06-35e0-436a-b3f7-a8ef29dd6967"
      },
      "execution_count": null,
      "outputs": [
        {
          "output_type": "stream",
          "name": "stdout",
          "text": [
            "    *\n",
            "   **\n",
            "  ***\n",
            " ****\n",
            "*****\n"
          ]
        }
      ]
    },
    {
      "cell_type": "code",
      "source": [
        "a=[1,2,3,4,5]\n",
        "mul=1\n",
        "for i in range(len(a)):\n",
        "  mul=mul*a[i]\n",
        "for i in range(len(a)):\n",
        "  a[i]=int(mul/a[i])\n",
        "a"
      ],
      "metadata": {
        "colab": {
          "base_uri": "https://localhost:8080/"
        },
        "id": "Q0_GsQ_56EgU",
        "outputId": "95e82e97-11bb-439d-a775-9bbebb7237e7"
      },
      "execution_count": 3,
      "outputs": [
        {
          "output_type": "execute_result",
          "data": {
            "text/plain": [
              "[120, 60, 40, 30, 24]"
            ]
          },
          "metadata": {},
          "execution_count": 3
        }
      ]
    },
    {
      "cell_type": "code",
      "source": [],
      "metadata": {
        "id": "pznmDHgPO6Na"
      },
      "execution_count": null,
      "outputs": []
    },
    {
      "cell_type": "code",
      "source": [],
      "metadata": {
        "id": "AXf1wVkVO6QR"
      },
      "execution_count": null,
      "outputs": []
    },
    {
      "cell_type": "code",
      "source": [
        "p=0\n",
        "def revno(n):\n",
        "  global p\n",
        "  p=p*10+(n%10)\n",
        "  #print(p)\n",
        "  \n",
        "  if n//10==0:\n",
        "    return n   \n",
        "  else:\n",
        "    revno(n//10)\n",
        "  return p\n",
        "    \n",
        "   \n",
        "revno(n=1234)"
      ],
      "metadata": {
        "colab": {
          "base_uri": "https://localhost:8080/"
        },
        "id": "eHVsgafXG_i4",
        "outputId": "5ea91a69-075d-41e2-dcc2-3968cdb89c11"
      },
      "execution_count": null,
      "outputs": [
        {
          "output_type": "execute_result",
          "data": {
            "text/plain": [
              "4321"
            ]
          },
          "metadata": {},
          "execution_count": 150
        }
      ]
    },
    {
      "cell_type": "code",
      "source": [
        "def revno(n,p):\n",
        "  while n>0:\n",
        "    p=p*10+(n%10)\n",
        "    n=n//10\n",
        "  return p \n",
        "  \n",
        "revno(1234,0)"
      ],
      "metadata": {
        "colab": {
          "base_uri": "https://localhost:8080/"
        },
        "id": "N9MnuQqyBG0T",
        "outputId": "94cb5e13-11d0-4a33-ed61-7eb075f2e455"
      },
      "execution_count": null,
      "outputs": [
        {
          "output_type": "execute_result",
          "data": {
            "text/plain": [
              "4321"
            ]
          },
          "metadata": {},
          "execution_count": 151
        }
      ]
    },
    {
      "cell_type": "code",
      "source": [
        "len(1234)"
      ],
      "metadata": {
        "colab": {
          "base_uri": "https://localhost:8080/",
          "height": 200
        },
        "id": "MIteBPy6WqvG",
        "outputId": "7bd23d9c-db7f-4f59-aa5a-ab7af9a6b079"
      },
      "execution_count": null,
      "outputs": [
        {
          "output_type": "error",
          "ename": "TypeError",
          "evalue": "ignored",
          "traceback": [
            "\u001b[0;31m---------------------------------------------------------------------------\u001b[0m",
            "\u001b[0;31mTypeError\u001b[0m                                 Traceback (most recent call last)",
            "\u001b[0;32m<ipython-input-177-101f49a01e99>\u001b[0m in \u001b[0;36m<module>\u001b[0;34m\u001b[0m\n\u001b[0;32m----> 1\u001b[0;31m \u001b[0mlen\u001b[0m\u001b[0;34m(\u001b[0m\u001b[0;36m1234\u001b[0m\u001b[0;34m)\u001b[0m\u001b[0;34m\u001b[0m\u001b[0;34m\u001b[0m\u001b[0m\n\u001b[0m\u001b[1;32m      2\u001b[0m \u001b[0;34m\u001b[0m\u001b[0m\n\u001b[1;32m      3\u001b[0m \u001b[0;34m\u001b[0m\u001b[0m\n",
            "\u001b[0;31mTypeError\u001b[0m: object of type 'int' has no len()"
          ]
        }
      ]
    },
    {
      "cell_type": "code",
      "source": [
        "a=[12,15,85,24,0]\n",
        "p=0\n",
        "index=-1\n",
        "for i in range(len(a)):\n",
        "  if a[i]==p:\n",
        "    index=i\n",
        "    break\n",
        "print(index)\n",
        "\n",
        "len(a)"
      ],
      "metadata": {
        "colab": {
          "base_uri": "https://localhost:8080/"
        },
        "id": "N3Bg9ciGoICv",
        "outputId": "ad94ab5c-6054-4fca-897a-47c8986fbd96"
      },
      "execution_count": null,
      "outputs": [
        {
          "output_type": "stream",
          "name": "stdout",
          "text": [
            "4\n"
          ]
        },
        {
          "output_type": "execute_result",
          "data": {
            "text/plain": [
              "5"
            ]
          },
          "metadata": {},
          "execution_count": 211
        }
      ]
    },
    {
      "cell_type": "code",
      "source": [
        "for i in range(0,5):\n",
        "  print(i)"
      ],
      "metadata": {
        "colab": {
          "base_uri": "https://localhost:8080/"
        },
        "id": "FVglti27uiJk",
        "outputId": "a9f22839-0955-46c0-8372-374ff9dc9fc9"
      },
      "execution_count": null,
      "outputs": [
        {
          "output_type": "stream",
          "name": "stdout",
          "text": [
            "0\n",
            "1\n",
            "2\n",
            "3\n",
            "4\n"
          ]
        }
      ]
    },
    {
      "cell_type": "code",
      "source": [
        "a=[[121,115,185,124],[12,25,35,100,15,89]]\n",
        "min=a[0][0]\n",
        "index=[-1,-1]\n",
        "for i in range(len(a)):\n",
        "  #print(\"i is\",i)\n",
        "  for j in range(len(a[i])):\n",
        "    #print(\"j is\", j)\n",
        "    if min>a[i][j]:\n",
        "      min=a[i][j]\n",
        "      index=[i,j]\n",
        "\n",
        "print(min,index)    \n"
      ],
      "metadata": {
        "colab": {
          "base_uri": "https://localhost:8080/"
        },
        "id": "yS8D6x_yp6_Z",
        "outputId": "ab25c127-bba9-414d-83a3-18edc8cc6068"
      },
      "execution_count": null,
      "outputs": [
        {
          "output_type": "stream",
          "name": "stdout",
          "text": [
            "12 [1, 0]\n"
          ]
        }
      ]
    },
    {
      "cell_type": "code",
      "source": [
        "a=[[121,15,85,24],[12,25,35,78]]\n",
        "len(a)"
      ],
      "metadata": {
        "colab": {
          "base_uri": "https://localhost:8080/"
        },
        "id": "Fgo3PiwlrVIV",
        "outputId": "e2499991-b89b-4e71-f3d4-488a4f537e0d"
      },
      "execution_count": null,
      "outputs": [
        {
          "output_type": "execute_result",
          "data": {
            "text/plain": [
              "2"
            ]
          },
          "metadata": {},
          "execution_count": 204
        }
      ]
    },
    {
      "cell_type": "code",
      "source": [
        "a=[[-121],[12,555]]\n",
        "even=0\n",
        "odd=0\n",
        "for i in range(len(a)):\n",
        "  for j in range(len(a[i])):\n",
        "\n",
        "    n=a[i][j]\n",
        "    num=0\n",
        "    while n>0:\n",
        "      num=num+n%10\n",
        "      n=n//10\n",
        "    if num%2==0:\n",
        "      even=even+1\n",
        "    else:\n",
        "      odd=odd+1  \n",
        "print(even,odd)"
      ],
      "metadata": {
        "colab": {
          "base_uri": "https://localhost:8080/"
        },
        "id": "AYuvwOpew1L8",
        "outputId": "51c6cefc-4628-424b-ee1f-1901984b15b2"
      },
      "execution_count": null,
      "outputs": [
        {
          "output_type": "stream",
          "name": "stdout",
          "text": [
            "1 2\n"
          ]
        }
      ]
    },
    {
      "cell_type": "code",
      "source": [
        "import numpy as np\n",
        "a=[[121,15,85,24],\n",
        "   [12,25,35,78],\n",
        "   [100,12,1,0]]\n",
        "np.sum(a,axis=1)\n"
      ],
      "metadata": {
        "colab": {
          "base_uri": "https://localhost:8080/"
        },
        "id": "-ynfbBtzzdSv",
        "outputId": "ead96382-e1cf-4ece-ac27-1505c188b802"
      },
      "execution_count": null,
      "outputs": [
        {
          "output_type": "execute_result",
          "data": {
            "text/plain": [
              "array([245, 150, 113])"
            ]
          },
          "metadata": {},
          "execution_count": 235
        }
      ]
    },
    {
      "cell_type": "code",
      "source": [
        "a=[-1,-32,0,1]\n",
        "n=len(a)\n",
        "swap=0\n",
        "for i in range(len(a)-1):  \n",
        "  for i in range(len(a)-1-i):\n",
        "    #print(i)\n",
        "    if a[i]>a[i+1]:\n",
        "      a[i+1],a[i]=a[i],a[i+1]\n",
        "      swap=1\n",
        "  if swap==0:\n",
        "    break    \n",
        "\n",
        "a"
      ],
      "metadata": {
        "colab": {
          "base_uri": "https://localhost:8080/"
        },
        "id": "qcib-BlT-eCv",
        "outputId": "4fc171e5-7e5e-4ba6-fe73-e6028a8c3932"
      },
      "execution_count": null,
      "outputs": [
        {
          "output_type": "execute_result",
          "data": {
            "text/plain": [
              "[-32, -1, 0, 1]"
            ]
          },
          "metadata": {},
          "execution_count": 256
        }
      ]
    },
    {
      "cell_type": "code",
      "source": [
        "a=[1,5,8,1,0,9]\n",
        "n=len(a)\n",
        "\n",
        "index=-1\n",
        "for i in range(len(a)):\n",
        "  swap=0\n",
        "  max=a[0]\n",
        "  for j in range(len(a)-i):    \n",
        "    if max<a[j]:\n",
        "      max=a[j]\n",
        "      index=j\n",
        "      #print(index):\n",
        "  if a[len(a)-1-i] != a[index]:\n",
        "       \n",
        "    print(\"i=\",i,\"swapindex=\",index,a)\n",
        "    a[index],a[len(a)-1-i]= a[len(a)-1-i],a[index]\n",
        "      \n",
        "\n",
        "a  "
      ],
      "metadata": {
        "colab": {
          "base_uri": "https://localhost:8080/"
        },
        "id": "yPszY1TEUjUn",
        "outputId": "7b5a6f99-7b04-4e3f-b07f-d550aeef9780"
      },
      "execution_count": null,
      "outputs": [
        {
          "output_type": "stream",
          "name": "stdout",
          "text": [
            "i= 1 swapindex= 2 [1, 5, 8, 1, 0, 9]\n",
            "i= 2 swapindex= 1 [1, 5, 0, 1, 8, 9]\n",
            "i= 3 swapindex= 1 [1, 1, 0, 5, 8, 9]\n",
            "i= 5 swapindex= 1 [1, 0, 1, 5, 8, 9]\n"
          ]
        },
        {
          "output_type": "execute_result",
          "data": {
            "text/plain": [
              "[0, 1, 1, 5, 8, 9]"
            ]
          },
          "metadata": {},
          "execution_count": 294
        }
      ]
    },
    {
      "cell_type": "code",
      "source": [
        "a=[3,4,2,5,1]\n",
        "\n",
        "for i in range(len(a)):\n",
        "  while a[i]!=i+1:\n",
        "    index=a[i]\n",
        "    a[i],a[index-1]=a[index-1],a[i]\n",
        "    print(a)\n",
        "\n",
        "\n",
        "a\n"
      ],
      "metadata": {
        "colab": {
          "base_uri": "https://localhost:8080/"
        },
        "id": "FoTus0RokJAJ",
        "outputId": "20388c67-9c95-465b-b9bb-da6d797f4f87"
      },
      "execution_count": null,
      "outputs": [
        {
          "output_type": "stream",
          "name": "stdout",
          "text": [
            "[2, 4, 3, 5, 1]\n",
            "[4, 2, 3, 5, 1]\n",
            "[5, 2, 3, 4, 1]\n",
            "[1, 2, 3, 4, 5]\n"
          ]
        },
        {
          "output_type": "execute_result",
          "data": {
            "text/plain": [
              "[1, 2, 3, 4, 5]"
            ]
          },
          "metadata": {},
          "execution_count": 300
        }
      ]
    },
    {
      "cell_type": "code",
      "source": [
        "def pal(n):\n",
        "\n",
        "  rev_num=0\n",
        "  num=n\n",
        "\n",
        "  while num>0:\n",
        "    rev_num=rev_num*10+(num%10)\n",
        "    num=num//10\n",
        "  print(rev_num)  \n",
        "  if n==rev_num:\n",
        "    return True\n",
        "  else:\n",
        "    return False \n",
        "\n",
        "pal(1212)"
      ],
      "metadata": {
        "colab": {
          "base_uri": "https://localhost:8080/"
        },
        "id": "wauuPxJwPbjO",
        "outputId": "9830232b-36ca-414b-d8de-af5646c1a5c3"
      },
      "execution_count": null,
      "outputs": [
        {
          "output_type": "stream",
          "name": "stdout",
          "text": [
            "2121\n"
          ]
        },
        {
          "output_type": "execute_result",
          "data": {
            "text/plain": [
              "False"
            ]
          },
          "metadata": {},
          "execution_count": 157
        }
      ]
    },
    {
      "cell_type": "code",
      "source": [
        "def pal(num):\n",
        "  \n",
        "  num=str(num)\n",
        "  lit=list(num)\n",
        "  l=len(lit)\n",
        "  p=l//2\n",
        "  print(lit)\n",
        "  \n",
        "  res=all(lit[n]==lit[l-1-n] for n in range(p+1))\n",
        "  if res:\n",
        "    return True\n",
        "  else:     \n",
        "    return False  \n",
        "\n",
        "pal(196691)"
      ],
      "metadata": {
        "colab": {
          "base_uri": "https://localhost:8080/"
        },
        "id": "C1MD4hWUUAra",
        "outputId": "b1ef9ebe-61e0-4f9a-da39-5e1e1d4c9dd6"
      },
      "execution_count": null,
      "outputs": [
        {
          "output_type": "stream",
          "name": "stdout",
          "text": [
            "['1', '9', '6', '6', '9', '1']\n"
          ]
        },
        {
          "output_type": "execute_result",
          "data": {
            "text/plain": [
              "True"
            ]
          },
          "metadata": {},
          "execution_count": 221
        }
      ]
    },
    {
      "cell_type": "code",
      "source": [
        "2%10"
      ],
      "metadata": {
        "id": "0op_EEU9K-Tp",
        "colab": {
          "base_uri": "https://localhost:8080/"
        },
        "outputId": "c369f324-5598-44e0-9a2d-b3f188268902"
      },
      "execution_count": null,
      "outputs": [
        {
          "output_type": "execute_result",
          "data": {
            "text/plain": [
              "2"
            ]
          },
          "metadata": {},
          "execution_count": 126
        }
      ]
    },
    {
      "cell_type": "code",
      "source": [
        "1234%10"
      ],
      "metadata": {
        "colab": {
          "base_uri": "https://localhost:8080/"
        },
        "id": "FO2S3DWTHJpp",
        "outputId": "0e8b7309-58ac-4536-e279-2e09e058bc5b"
      },
      "execution_count": null,
      "outputs": [
        {
          "output_type": "execute_result",
          "data": {
            "text/plain": [
              "4"
            ]
          },
          "metadata": {},
          "execution_count": 16
        }
      ]
    },
    {
      "cell_type": "code",
      "source": [
        "9//10"
      ],
      "metadata": {
        "colab": {
          "base_uri": "https://localhost:8080/"
        },
        "id": "3MqSW1YIKCXQ",
        "outputId": "7979738a-9346-4ae4-f43e-74c2f5fbde78"
      },
      "execution_count": null,
      "outputs": [
        {
          "output_type": "execute_result",
          "data": {
            "text/plain": [
              "0"
            ]
          },
          "metadata": {},
          "execution_count": 15
        }
      ]
    },
    {
      "cell_type": "code",
      "source": [
        "def bisearch(arr, target):\n",
        "  s=0\n",
        "  e=len(arr)-1\n",
        "  \n",
        "  while s<=e:\n",
        "    mid=(s+e)//2\n",
        "    if target==arr[mid]:\n",
        "      return mid\n",
        "    elif target>arr[mid]:\n",
        "      s=mid+1\n",
        "    elif target<arr[mid]:\n",
        "      e=mid-1\n",
        "  return -1      \n",
        "\n",
        "bisearch([1,2,4,8,9,14], 8)  "
      ],
      "metadata": {
        "colab": {
          "base_uri": "https://localhost:8080/"
        },
        "id": "bz68-XHj84ud",
        "outputId": "641f6c4e-4be0-49a6-f9a9-90f3b156770b"
      },
      "execution_count": null,
      "outputs": [
        {
          "output_type": "execute_result",
          "data": {
            "text/plain": [
              "3"
            ]
          },
          "metadata": {},
          "execution_count": 13
        }
      ]
    },
    {
      "cell_type": "code",
      "source": [
        "def bisearch(arr, target, s, e):\n",
        "\n",
        "  if s>e:\n",
        "    return -1\n",
        "  \n",
        "  mid=(s+e)//2 \n",
        "  if target==arr[mid]:\n",
        "    return mid  \n",
        "  elif target<arr[mid]:\n",
        "    return bisearch(arr, target, s, e=mid-1)\n",
        "  else:\n",
        "    return bisearch(arr,target,s=mid+1 ,e=e)\n",
        "\n",
        "#arr=[1,2,4,8,9,14]\n",
        "\n",
        "bisearch(arr=[1,2,4,8,9,14], target=0, s=0, e=len(arr)-1)      \n",
        " "
      ],
      "metadata": {
        "id": "HD7kNB6DgmTb",
        "colab": {
          "base_uri": "https://localhost:8080/"
        },
        "outputId": "527bb3eb-bfe0-4894-8beb-e9fe0926f6a5"
      },
      "execution_count": null,
      "outputs": [
        {
          "output_type": "execute_result",
          "data": {
            "text/plain": [
              "-1"
            ]
          },
          "metadata": {},
          "execution_count": 28
        }
      ]
    },
    {
      "cell_type": "code",
      "source": [
        "m=[1,2,3,4,5]\n",
        "mul=1\n",
        "for i in m:\n",
        "  mul=i*mul\n",
        "\n",
        "new_arr=[120 for i in range(len(m))]\n",
        "result_arr=[]\n",
        "\n",
        "for i in range(len(m)):\n",
        "  ele=new_arr[i]/m[i]\n",
        "  result_arr.append(int(ele))\n",
        "result_arr"
      ],
      "metadata": {
        "colab": {
          "base_uri": "https://localhost:8080/"
        },
        "id": "nKHr7tnbcYSd",
        "outputId": "bfaa1d39-5f2d-4412-f9d6-4787f94cfa42"
      },
      "execution_count": null,
      "outputs": [
        {
          "output_type": "execute_result",
          "data": {
            "text/plain": [
              "[120, 60, 40, 30, 24]"
            ]
          },
          "metadata": {},
          "execution_count": 8
        }
      ]
    },
    {
      "cell_type": "code",
      "source": [
        "import numpy as np\n",
        "a=[[1,2,3],[2,3,5],[5,6,8]]\n",
        "np.sum(np.sum(a))\n",
        "\n"
      ],
      "metadata": {
        "colab": {
          "base_uri": "https://localhost:8080/"
        },
        "id": "T2YAerS-5GQc",
        "outputId": "c1b17c54-8cf7-4f3d-9818-55bbdf5ae789"
      },
      "execution_count": null,
      "outputs": [
        {
          "output_type": "execute_result",
          "data": {
            "text/plain": [
              "35"
            ]
          },
          "metadata": {},
          "execution_count": 7
        }
      ]
    },
    {
      "cell_type": "code",
      "source": [],
      "metadata": {
        "id": "AE9iXJxVnvya"
      },
      "execution_count": null,
      "outputs": []
    },
    {
      "cell_type": "code",
      "source": [
        "lit=[\"aaji\", \"aankil\", \"aankff\"]\n",
        "\n",
        "s=lit[0]\n",
        "n=len(s)-1\n",
        "word=0\n",
        "for var in lit:\n",
        "  while var[:n]!=s[:n]:\n",
        "    n=n-1\n",
        "    print(n)\n",
        "    if n<2:\n",
        "      break;\n",
        "  word=n \n",
        "print(s[:word])\n"
      ],
      "metadata": {
        "colab": {
          "base_uri": "https://localhost:8080/"
        },
        "id": "I4mtJn2cf32S",
        "outputId": "03bea5d2-969d-4196-f20d-78f7e3628440"
      },
      "execution_count": null,
      "outputs": [
        {
          "output_type": "stream",
          "name": "stdout",
          "text": [
            "2\n",
            "aa\n"
          ]
        }
      ]
    },
    {
      "cell_type": "code",
      "source": [
        "import numpy as np\n",
        "from nltk.tokenize import  word_tokenize \n",
        " \n",
        "#Example text corpus for our tutorial\n",
        "text = ['Topic sentences are similar to mini thesis statements.\\\n",
        "        Like a thesis statement, a topic sentence has a specific \\\n",
        "        main point. Whereas the thesis is the main point of the essay',\\\n",
        "        'the topic sentence is the main point of the paragraph.\\\n",
        "        Like the thesis statement, a topic sentence has a unifying function. \\\n",
        "        But a thesis statement or topic sentence alone doesn’t guarantee unity.', \\\n",
        "        'An essay is unified if all the paragraphs relate to the thesis,\\\n",
        "        whereas a paragraph is unified if all the sentences relate to the topic sentence.']\n",
        "\n",
        "        #Preprocessing the text data\n",
        "sentences = []\n",
        "word_set = {}\n",
        " \n",
        "for sent in text:\n",
        "  x=[i.lower() for i in word_tokenize(sent) if i.isaplha()]\n",
        "  sentences.appen(x)\n",
        "  for word in x:\n",
        "    if word in word_set:\n",
        "      word_set[word]+=1\n",
        "    else:\n",
        "      word_set[word]=1  \n",
        "\n",
        " \n",
        "\n",
        "\n"
      ],
      "metadata": {
        "colab": {
          "base_uri": "https://localhost:8080/",
          "height": 235
        },
        "id": "mFsm-8z6GD3X",
        "outputId": "36ad1672-ad9e-4404-f3e8-e7f9ac4a98f2"
      },
      "execution_count": null,
      "outputs": [
        {
          "output_type": "error",
          "ename": "NameError",
          "evalue": "ignored",
          "traceback": [
            "\u001b[0;31m---------------------------------------------------------------------------\u001b[0m",
            "\u001b[0;31mNameError\u001b[0m                                 Traceback (most recent call last)",
            "\u001b[0;32m<ipython-input-4-f4b501303580>\u001b[0m in \u001b[0;36m<module>\u001b[0;34m\u001b[0m\n\u001b[1;32m     17\u001b[0m \u001b[0;34m\u001b[0m\u001b[0m\n\u001b[1;32m     18\u001b[0m \u001b[0;32mfor\u001b[0m \u001b[0msent\u001b[0m \u001b[0;32min\u001b[0m \u001b[0mtext\u001b[0m\u001b[0;34m:\u001b[0m\u001b[0;34m\u001b[0m\u001b[0;34m\u001b[0m\u001b[0m\n\u001b[0;32m---> 19\u001b[0;31m   \u001b[0mx\u001b[0m\u001b[0;34m=\u001b[0m\u001b[0;34m[\u001b[0m\u001b[0mi\u001b[0m\u001b[0;34m.\u001b[0m\u001b[0mlower\u001b[0m\u001b[0;34m(\u001b[0m\u001b[0;34m)\u001b[0m \u001b[0;32mfor\u001b[0m \u001b[0mi\u001b[0m \u001b[0;32min\u001b[0m \u001b[0mnltk\u001b[0m\u001b[0;34m.\u001b[0m\u001b[0mword_tokenize\u001b[0m\u001b[0;34m(\u001b[0m\u001b[0msent\u001b[0m\u001b[0;34m)\u001b[0m \u001b[0;32mif\u001b[0m \u001b[0mi\u001b[0m\u001b[0;34m.\u001b[0m\u001b[0misaplha\u001b[0m\u001b[0;34m(\u001b[0m\u001b[0;34m)\u001b[0m\u001b[0;34m]\u001b[0m\u001b[0;34m\u001b[0m\u001b[0;34m\u001b[0m\u001b[0m\n\u001b[0m\u001b[1;32m     20\u001b[0m   \u001b[0msentences\u001b[0m\u001b[0;34m.\u001b[0m\u001b[0mappen\u001b[0m\u001b[0;34m(\u001b[0m\u001b[0mx\u001b[0m\u001b[0;34m)\u001b[0m\u001b[0;34m\u001b[0m\u001b[0;34m\u001b[0m\u001b[0m\n\u001b[1;32m     21\u001b[0m   \u001b[0;32mfor\u001b[0m \u001b[0mword\u001b[0m \u001b[0;32min\u001b[0m \u001b[0mx\u001b[0m\u001b[0;34m:\u001b[0m\u001b[0;34m\u001b[0m\u001b[0;34m\u001b[0m\u001b[0m\n",
            "\u001b[0;31mNameError\u001b[0m: name 'nltk' is not defined"
          ]
        }
      ]
    },
    {
      "cell_type": "code",
      "source": [
        "#matrix: sum \n",
        "n=[1,5,-18,-1,8,1000]\n",
        "sm=-1\n",
        "for i in range(len(n)):\n",
        "  sm_int=n[i]\n",
        "  for j in range(i+1,len(n)):\n",
        "    sm_int=sm_int+n[j]\n",
        "    #print(sm_int)\n",
        "    if sm_int>sm:\n",
        "      sm= sm_int\n",
        "      a=i\n",
        "      b=j\n",
        "\n",
        "sm \n",
        "n[a:b+1]     "
      ],
      "metadata": {
        "colab": {
          "base_uri": "https://localhost:8080/"
        },
        "id": "Sc60wSB8ut3u",
        "outputId": "8d89ee0c-db05-4101-c9ca-4686f720c4c1"
      },
      "execution_count": null,
      "outputs": [
        {
          "output_type": "execute_result",
          "data": {
            "text/plain": [
              "[1, 5, 8, -1, 8, 1000]"
            ]
          },
          "metadata": {},
          "execution_count": 40
        }
      ]
    },
    {
      "cell_type": "code",
      "source": [
        "#sort red white, blue\n",
        "num=[2,0,2,1,1,0]\n",
        "def sort1(nums):\n",
        "  p0=curr=0\n",
        "  p2=len(nums)-1\n",
        "\n",
        "  while(curr<p2):\n",
        "    #print(p0,curr,p2,num)\n",
        "    \n",
        "    if nums[curr]==0:\n",
        "      nums[p0], nums[curr]=nums[curr], nums[p0]\n",
        "      p0+=1\n",
        "      curr+=1\n",
        "    elif nums[curr]==2:\n",
        "       nums[curr], nums[p2]= nums[p2],nums[curr]\n",
        "       p2-=1\n",
        "    else:\n",
        "      curr=curr+1\n",
        "  return  nums\n",
        "\n",
        "sort1(num)       \n"
      ],
      "metadata": {
        "colab": {
          "base_uri": "https://localhost:8080/"
        },
        "id": "x_oGwC9RZL09",
        "outputId": "a9b2ab5b-584e-4225-ac36-03a384a30935"
      },
      "execution_count": null,
      "outputs": [
        {
          "output_type": "execute_result",
          "data": {
            "text/plain": [
              "[0, 0, 1, 1, 2, 2]"
            ]
          },
          "metadata": {},
          "execution_count": 13
        }
      ]
    },
    {
      "cell_type": "code",
      "source": [],
      "metadata": {
        "id": "SgGGR5kfGCQK"
      },
      "execution_count": null,
      "outputs": []
    },
    {
      "cell_type": "code",
      "source": [
        "def numDecodings(s: str) -> int:\n",
        "      if len(s) == 0 or (len(s) ==1 and s[0] == '0'):\n",
        "          return 0\n",
        "      return numDecodingsHelper(s, len(s))\n",
        " \n",
        "def numDecodingsHelper(s: str, n: int) -> int:\n",
        "    \n",
        "    if n == 0 or n == 1:      \n",
        "      return 1\n",
        "    count = 0    \n",
        "    if s[n-1] > \"0\":        \n",
        "        count = numDecodingsHelper(s, n-1)\n",
        "    if (s[n - 2] == '1' or (s[n - 2] == '2' and s[n - 1] < '7')):        \n",
        "        count += numDecodingsHelper(s, n - 2)\n",
        "    return count\n",
        " \n",
        "# Driver code\n",
        "digits = \"1223\"\n",
        "#print(len(digits))\n",
        "print(\"Count is \", numDecodings(digits))\n"
      ],
      "metadata": {
        "colab": {
          "base_uri": "https://localhost:8080/"
        },
        "id": "89aRTIGBxM0e",
        "outputId": "deda975c-c353-4ad1-bd7f-4e7953be16e0"
      },
      "execution_count": null,
      "outputs": [
        {
          "output_type": "stream",
          "name": "stdout",
          "text": [
            "Count is  5\n"
          ]
        }
      ]
    },
    {
      "cell_type": "code",
      "source": [
        "def funt(s,n):\n",
        "  count=[0]*(n+1)\n",
        "  count[0]=1\n",
        "  count[1]=1\n",
        "  for i in range(2,n+1):\n",
        "    count[i]=0\n",
        "    if s[i-1]>\"0\":\n",
        "      count[i]=count[i-1]\n",
        "    if s[i-2]==\"1\" or (s[i-2]==\"2\" and s[i-1]<\"7\"):\n",
        "      count[i]+=count[i-2]\n",
        "  return count[n] \n",
        "\n",
        "digits = \"1234\";\n",
        "n = len(digits);\n",
        "print(\"Count is\" ,funt(digits, n));\n"
      ],
      "metadata": {
        "colab": {
          "base_uri": "https://localhost:8080/"
        },
        "id": "z6dmwXC4xD-e",
        "outputId": "9e5bd2f1-60f8-44af-a1be-25cdacf172f6"
      },
      "execution_count": null,
      "outputs": [
        {
          "output_type": "stream",
          "name": "stdout",
          "text": [
            "Count is 3\n"
          ]
        }
      ]
    },
    {
      "cell_type": "code",
      "source": [
        "input_list = [1, -1, 3, 7, 8, 0, 2, 5, -6]\n",
        "min([x for x in range(min(input_list), max(input_list) + 1) if (x not in input_list) and (x>0)])"
      ],
      "metadata": {
        "colab": {
          "base_uri": "https://localhost:8080/"
        },
        "id": "YMZzCOEd-BmH",
        "outputId": "26b0200a-12f0-4211-e985-0ee477c8aa3f"
      },
      "execution_count": null,
      "outputs": [
        {
          "output_type": "execute_result",
          "data": {
            "text/plain": [
              "4"
            ]
          },
          "metadata": {},
          "execution_count": 1
        }
      ]
    },
    {
      "cell_type": "code",
      "source": [
        "l=[2, 3, 7,1, 6, 8, -1, -10, 15]\n",
        "a=[*range(min(l),max(l)+1)]\n",
        "for i in a:\n",
        "    if(i not in l) and i>0:\n",
        "        print(i)\n",
        "        break\n",
        "       "
      ],
      "metadata": {
        "colab": {
          "base_uri": "https://localhost:8080/"
        },
        "id": "mKXYdSzj-dIy",
        "outputId": "3744a28c-47b3-4cca-8bd8-646fc3998b02"
      },
      "execution_count": null,
      "outputs": [
        {
          "output_type": "stream",
          "name": "stdout",
          "text": [
            "4\n"
          ]
        }
      ]
    },
    {
      "cell_type": "code",
      "execution_count": null,
      "metadata": {
        "colab": {
          "base_uri": "https://localhost:8080/"
        },
        "id": "0v3CH4ec6iUX",
        "outputId": "c6075fb0-fc99-413b-a2e1-8e88c0c92f66"
      },
      "outputs": [
        {
          "output_type": "execute_result",
          "data": {
            "text/plain": [
              "[2, 2, 5]"
            ]
          },
          "metadata": {},
          "execution_count": 4
        }
      ],
      "source": [
        "n=20\n",
        "div=2\n",
        "lit=[]\n",
        "while (n>=div):\n",
        "  if n%div==0:\n",
        "    n=n//div\n",
        "    lit.append(div)\n",
        "  else:\n",
        "    div+=1  \n",
        "lit"
      ]
    },
    {
      "cell_type": "code",
      "source": [
        "str=\"codespeedy\"\n",
        "dic={}\n",
        "for i in str:\n",
        "  if i in dic:\n",
        "    dic[i]+=1\n",
        "  else:\n",
        "    dic[i]=1\n",
        "for i in range(0,len(str)+1):\n",
        "  if dic[str[i]]>1:\n",
        "      print(str[i])\n",
        "      break;\n",
        "  "
      ],
      "metadata": {
        "colab": {
          "base_uri": "https://localhost:8080/"
        },
        "id": "g5P-LwbAWW2q",
        "outputId": "bc6a798b-2b82-41f5-ba14-a82c386991a4"
      },
      "execution_count": null,
      "outputs": [
        {
          "output_type": "stream",
          "name": "stdout",
          "text": [
            "d\n"
          ]
        }
      ]
    },
    {
      "cell_type": "code",
      "source": [
        "a=[10,5,2,8]\n",
        "b=[0,4,8,1]\n",
        "a=sorted(a)\n",
        "b=sorted(b)\n",
        "print(a,b)\n",
        "target=12\n",
        "lt=[]\n",
        "for i in range(len(a)):\n",
        "  num=a[i]+b[len(b)-1-i]\n",
        "  #print(num)\n",
        "  if num==target or num==target+1 or num==target-1:\n",
        "    lt.append((a[i],b[len(b)-1-i]))\n",
        "  \n",
        "lt      \n"
      ],
      "metadata": {
        "colab": {
          "base_uri": "https://localhost:8080/"
        },
        "id": "9w14RhQ1h6cJ",
        "outputId": "16ff9c86-b025-495f-a4b4-b4c2eed3247e"
      },
      "execution_count": null,
      "outputs": [
        {
          "output_type": "stream",
          "name": "stdout",
          "text": [
            "[2, 5, 8, 10] [0, 1, 4, 8]\n"
          ]
        },
        {
          "output_type": "execute_result",
          "data": {
            "text/plain": [
              "[]"
            ]
          },
          "metadata": {},
          "execution_count": 12
        }
      ]
    },
    {
      "cell_type": "code",
      "source": [
        "a=[10,5,2,8]\n",
        "b=[0,4,8,1]\n",
        "c=set(a)\n",
        "target=12\n",
        "lt=[]\n",
        "for i in b:\n",
        "  if abs (target-i) in c:\n",
        "    lt.append((i,target-i))\n",
        "  elif abs(target+-i+1) in c:\n",
        "    lt.append((i,target-i+1))\n",
        "  elif abs(target-1-i) in c:\n",
        "    lt.append((i,target-i-1))\n",
        "\n",
        "\n",
        "\n",
        "lt"
      ],
      "metadata": {
        "colab": {
          "base_uri": "https://localhost:8080/"
        },
        "id": "MJAuAHOSBtkS",
        "outputId": "5350a37a-b6f1-48d0-e644-0109341ae1f1"
      },
      "execution_count": null,
      "outputs": [
        {
          "output_type": "execute_result",
          "data": {
            "text/plain": [
              "[(4, 8), (8, 5), (1, 10)]"
            ]
          },
          "metadata": {},
          "execution_count": 5
        }
      ]
    },
    {
      "cell_type": "code",
      "source": [
        "a=[10,5,2,8]\n",
        "b=[0,4,8,1]\n",
        "target=12\n",
        "lit=[]\n",
        "for i in set(a):\n",
        "  for j in set(b):\n",
        "    if i+j==target or i+j==target-1:\n",
        "      lit.append((i,j))\n",
        "lit      \n",
        "\n",
        "\n"
      ],
      "metadata": {
        "colab": {
          "base_uri": "https://localhost:8080/"
        },
        "id": "XGYJJMFoGjRv",
        "outputId": "17a16d99-707c-4228-c354-b40dad172f28"
      },
      "execution_count": null,
      "outputs": [
        {
          "output_type": "execute_result",
          "data": {
            "text/plain": [
              "[(8, 4), (10, 1)]"
            ]
          },
          "metadata": {},
          "execution_count": 9
        }
      ]
    },
    {
      "cell_type": "code",
      "source": [
        "a=[10,5,2,8,'NAN',1,'NAN','NAN',5]\n",
        "for i in range(len(a)-1):\n",
        "  if a[i]=='NAN':\n",
        "    a[i]=a[i-1]\n",
        "\n",
        "a\n"
      ],
      "metadata": {
        "colab": {
          "base_uri": "https://localhost:8080/"
        },
        "id": "foeDPJDRIMs_",
        "outputId": "a8f5581b-3330-4e7d-e4c8-c97a80d9d1e6"
      },
      "execution_count": null,
      "outputs": [
        {
          "output_type": "execute_result",
          "data": {
            "text/plain": [
              "[10, 5, 2, 8, 8, 1, 1, 1, 5]"
            ]
          },
          "metadata": {},
          "execution_count": 11
        }
      ]
    },
    {
      "cell_type": "code",
      "source": [
        "lit=[1,2,5,6,7,8]\n",
        "\n",
        "li=[x for x in range(lit[0],lit[-1]+1) if x not in lit]\n",
        "\n",
        "li\n"
      ],
      "metadata": {
        "id": "SpIJq-l6VtL6"
      },
      "execution_count": null,
      "outputs": []
    },
    {
      "cell_type": "code",
      "source": [],
      "metadata": {
        "id": "8bsW0yJfVd6p"
      },
      "execution_count": null,
      "outputs": []
    },
    {
      "cell_type": "code",
      "source": [
        "n=50\n",
        "div=2\n",
        "if all(n%div!=0 for div in range(2,n)):\n",
        "  print(\"prime\")\n",
        "else:print(\"not prime\")  "
      ],
      "metadata": {
        "colab": {
          "base_uri": "https://localhost:8080/"
        },
        "id": "YFq_9dVD3_IV",
        "outputId": "2c8f6109-98c6-4d09-ab12-d0042b18f6e5"
      },
      "execution_count": null,
      "outputs": [
        {
          "output_type": "stream",
          "name": "stdout",
          "text": [
            "not prime\n"
          ]
        }
      ]
    },
    {
      "cell_type": "code",
      "source": [
        "n=1\n",
        "div=2\n",
        "lit=[]\n",
        "for num in range(2,n):\n",
        "  if all(num%div!=0 for div in range(2,num)):\n",
        "    lit.append(num)\n",
        "\n",
        "lit\n",
        "\n"
      ],
      "metadata": {
        "colab": {
          "base_uri": "https://localhost:8080/"
        },
        "id": "GppYFTX66sYc",
        "outputId": "6bd2255d-852e-4fc7-c96e-8cc4c3a3758d"
      },
      "execution_count": null,
      "outputs": [
        {
          "output_type": "execute_result",
          "data": {
            "text/plain": [
              "[]"
            ]
          },
          "metadata": {},
          "execution_count": 13
        }
      ]
    },
    {
      "cell_type": "code",
      "source": [
        "n=11\n",
        "div=2\n",
        "lit=[]\n",
        "for num in range(2,n):\n",
        "  lit2=[]\n",
        "  for div in range(2,num):   \n",
        "    if num%div!=0:\n",
        "      lit2.append(1)\n",
        "    else:\n",
        "      lit2.append  \n",
        "  if all(lit2):\n",
        "    lit.append(num)    \n",
        "\n",
        "lit\n",
        "\n"
      ],
      "metadata": {
        "colab": {
          "base_uri": "https://localhost:8080/"
        },
        "id": "nDCgiAXM8ggE",
        "outputId": "9c2ba0f3-1504-48cf-e3fc-0dd5304a5c53"
      },
      "execution_count": null,
      "outputs": [
        {
          "output_type": "execute_result",
          "data": {
            "text/plain": [
              "[2, 3, 5, 7]"
            ]
          },
          "metadata": {},
          "execution_count": 15
        }
      ]
    },
    {
      "cell_type": "code",
      "source": [
        "lit=[1,2,4,6,7,10,20]\n",
        "lit.sort()\n",
        "p=len(lit)\n",
        "miss_lit=[]\n",
        "for i in range(len(lit)-1):\n",
        "  diff=lit[i+1]-lit[i]\n",
        "  if diff !=1:\n",
        "    for j in range(1,diff):\n",
        "      miss_lit.append(lit[i]+j)\n",
        "\n",
        "  "
      ],
      "metadata": {
        "colab": {
          "base_uri": "https://localhost:8080/"
        },
        "id": "pGy0Md9jQpbL",
        "outputId": "740e6d74-544e-46cb-ff50-5d9fb6245e64"
      },
      "execution_count": null,
      "outputs": [
        {
          "output_type": "execute_result",
          "data": {
            "text/plain": [
              "[3, 5, 8, 9, 11, 12, 13, 14, 15, 16, 17, 18, 19]"
            ]
          },
          "metadata": {},
          "execution_count": 35
        }
      ]
    },
    {
      "cell_type": "code",
      "source": [
        "lit=[1,2,3,4,6,7,8,10,11]\n",
        "for i in range(lit[0],lit[-1]):\n",
        "  if i not in lit:\n",
        "    print(i)\n"
      ],
      "metadata": {
        "colab": {
          "base_uri": "https://localhost:8080/"
        },
        "id": "fnB8-269Aona",
        "outputId": "744eb1aa-91a2-40ad-b7d8-1b85f62d3672"
      },
      "execution_count": null,
      "outputs": [
        {
          "output_type": "stream",
          "name": "stdout",
          "text": [
            "5\n",
            "9\n"
          ]
        }
      ]
    },
    {
      "cell_type": "code",
      "source": [
        "lit=[1,2,4,6,7,10,11]\n",
        "def miss_num(l):\n",
        "  return [i for i in range(lit[0],lit[-1]) if i not in lit]\n",
        "      \n",
        "missing_num=miss_num(lit)     \n",
        "missing_num"
      ],
      "metadata": {
        "colab": {
          "base_uri": "https://localhost:8080/"
        },
        "id": "D-iHqW92zjKc",
        "outputId": "0d8a2c3e-1726-4273-c5e1-21faff46dbc5"
      },
      "execution_count": null,
      "outputs": [
        {
          "output_type": "execute_result",
          "data": {
            "text/plain": [
              "[3, 5, 8, 9]"
            ]
          },
          "metadata": {},
          "execution_count": 42
        }
      ]
    },
    {
      "cell_type": "code",
      "source": [
        "def missing_value(x):\n",
        "    y=[]\n",
        "    for i in range(len(x)-1):\n",
        "        if x[i+1]-x[i]==1:\n",
        "            pass\n",
        "        else:\n",
        "            y.extend(list(range(x[i]+1,x[i+1])))\n",
        "    return y\n",
        " \n",
        "lit=[1,2,4,6,7,10,11]\n",
        "test=missing_value(lit)\n",
        "test   "
      ],
      "metadata": {
        "colab": {
          "base_uri": "https://localhost:8080/"
        },
        "id": "OBYhncwJ12NH",
        "outputId": "ad38315d-632c-4247-8cbb-7a159844b511"
      },
      "execution_count": null,
      "outputs": [
        {
          "output_type": "execute_result",
          "data": {
            "text/plain": [
              "[3, 5, 8, 9]"
            ]
          },
          "metadata": {},
          "execution_count": 43
        }
      ]
    },
    {
      "cell_type": "code",
      "source": [
        "a = [6,7,10,11,13]\n",
        "b = list(range(a[0] , a[-1]+1))\n",
        "b\n",
        "print(set(b) - set(a))"
      ],
      "metadata": {
        "colab": {
          "base_uri": "https://localhost:8080/"
        },
        "id": "9kIlOf573YVR",
        "outputId": "52eb2d0c-1843-49aa-9785-5cc24a66f476"
      },
      "execution_count": null,
      "outputs": [
        {
          "output_type": "execute_result",
          "data": {
            "text/plain": [
              "[6, 7, 8, 9, 10, 11, 12, 13]"
            ]
          },
          "metadata": {},
          "execution_count": 48
        }
      ]
    },
    {
      "cell_type": "code",
      "source": [
        "arr=[-2,1,-3,4,-1,2,1,-5,4,1]\n",
        "\n",
        "smax=sum(arr)\n",
        "s=0\n",
        "c=0\n",
        "arr1=[]\n",
        "for i in range(len(arr)):\n",
        "  snew=arr[i]\n",
        "  for j in range(i+1, len(arr)):\n",
        "    snew=snew+arr[j]    \n",
        "    if smax<snew:\n",
        "      smax=snew\n",
        "      s=i\n",
        "      c=j\n",
        "arr1.extend(arr[s:c+1])      \n",
        "      \n",
        "      \n",
        "\n",
        "smax \n",
        "arr1\n"
      ],
      "metadata": {
        "colab": {
          "base_uri": "https://localhost:8080/"
        },
        "id": "rlDO9j_Wn2qC",
        "outputId": "f7e9c6c7-e032-4abc-fb0c-677b119361f3"
      },
      "execution_count": null,
      "outputs": [
        {
          "output_type": "execute_result",
          "data": {
            "text/plain": [
              "[4, -1, 2, 1]"
            ]
          },
          "metadata": {},
          "execution_count": 33
        }
      ]
    },
    {
      "cell_type": "code",
      "source": [
        "# Recursive implementation of numDecodings\n",
        "def numDecodings(s: str) -> int:\n",
        "    if len(s) == 0 or (len(s) == 1 and s[0] == '0'):\n",
        "        return 0\n",
        "    return numDecodingsHelper(s, len(s))\n",
        " \n",
        " \n",
        "def numDecodingsHelper(s: str, n: int) -> int:\n",
        "    if n == 0 or n == 1:\n",
        "        return 1\n",
        "    count = 0\n",
        "    if s[n-1] > \"0\":\n",
        "        count = numDecodingsHelper(s, n-1)\n",
        "    if (s[n - 2] == '1'\n",
        "        or (s[n - 2] == '2'\n",
        "            and s[n - 1] < '7')):\n",
        "        count += numDecodingsHelper(s, n - 2)\n",
        "    return count\n",
        " \n",
        " \n",
        "# Driver code\n",
        "digits = \"1234\"\n",
        "print(\"Count is \", numDecodings(digits))\n"
      ],
      "metadata": {
        "colab": {
          "base_uri": "https://localhost:8080/"
        },
        "id": "MRW4zrYV0NfX",
        "outputId": "081f7feb-2f94-4631-d2ab-a01f6d425c87"
      },
      "execution_count": null,
      "outputs": [
        {
          "output_type": "stream",
          "name": "stdout",
          "text": [
            "Count is  3\n"
          ]
        }
      ]
    },
    {
      "cell_type": "code",
      "source": [
        "https://www.geeksforgeeks.org/count-possible-decodings-given-digit-sequence/"
      ],
      "metadata": {
        "id": "OvuWLSLw3kBA"
      },
      "execution_count": null,
      "outputs": []
    },
    {
      "cell_type": "code",
      "source": [
        "# A Dynamic Programming based Python3\n",
        "# implementation to count decodings\n",
        " \n",
        "# A Dynamic Programming based function\n",
        "# to count decodings\n",
        "def countDecodingDP(digits, n):\n",
        " \n",
        "    count = [0] * (n + 1); # A table to store\n",
        "                           # results of subproblems\n",
        "    count[0] = 1;\n",
        "    count[1] = 1;\n",
        " \n",
        "    for i in range(2, n + 1):\n",
        " \n",
        "        count[i] = 0;\n",
        " \n",
        "        # If the last digit is not 0, then last\n",
        "        # digit must add to the number of words\n",
        "        if (digits[i - 1] > '0'):\n",
        "            count[i] = count[i - 1];\n",
        " \n",
        "        # If second last digit is smaller than 2\n",
        "        # and last digit is smaller than 7, then\n",
        "        # last two digits form a valid character\n",
        "        if (digits[i - 2] == '1' or\n",
        "           (digits[i - 2] == '2' and\n",
        "            digits[i - 1] < '7') ):\n",
        "            count[i] += count[i - 2];\n",
        " \n",
        "    return count[n];\n",
        " \n",
        "# Driver Code\n",
        "digits = \"1234\";\n",
        "n = len(digits);\n",
        "print(\"Count is\" ,\n",
        "       countDecodingDP(digits, n));\n",
        "\n",
        "\n",
        "\n",
        "       "
      ],
      "metadata": {
        "id": "hw_c6EZTvDlA"
      },
      "execution_count": null,
      "outputs": []
    },
    {
      "cell_type": "code",
      "source": [],
      "metadata": {
        "id": "BlBAM3jdvDmv"
      },
      "execution_count": null,
      "outputs": []
    },
    {
      "cell_type": "code",
      "source": [],
      "metadata": {
        "id": "l4zo-E6bvDqm"
      },
      "execution_count": null,
      "outputs": []
    }
  ]
}