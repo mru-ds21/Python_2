{
 "cells": [
  {
   "cell_type": "code",
   "execution_count": 13,
   "id": "b4c5c8a6",
   "metadata": {},
   "outputs": [],
   "source": [
    "def PairSum(v,k):\n",
    "    if len(v)<2:\n",
    "        return print(\"Too small\")\n",
    "     \n",
    "    seen=set()\n",
    "    output=set()\n",
    "\n",
    "    for n in v:\n",
    "        target=k-n\n",
    "        \n",
    "        if target not in seen:\n",
    "            seen.add(n)\n",
    "        else:\n",
    "            output.add((min(n,target), max(n,target)))\n",
    "        \n",
    "    print('\\n'.join(map(str, list(output))))\n",
    "            \n",
    "        \n",
    "        \n",
    "    \n",
    "    "
   ]
  },
  {
   "cell_type": "code",
   "execution_count": 14,
   "id": "d587f6af",
   "metadata": {},
   "outputs": [
    {
     "name": "stdout",
     "output_type": "stream",
     "text": [
      "(1, 3)\n",
      "(2, 2)\n"
     ]
    }
   ],
   "source": [
    "PairSum([1,3,2,2],4)"
   ]
  },
  {
   "cell_type": "code",
   "execution_count": null,
   "id": "70547903",
   "metadata": {},
   "outputs": [],
   "source": []
  }
 ],
 "metadata": {
  "kernelspec": {
   "display_name": "Python 3 (ipykernel)",
   "language": "python",
   "name": "python3"
  },
  "language_info": {
   "codemirror_mode": {
    "name": "ipython",
    "version": 3
   },
   "file_extension": ".py",
   "mimetype": "text/x-python",
   "name": "python",
   "nbconvert_exporter": "python",
   "pygments_lexer": "ipython3",
   "version": "3.9.7"
  }
 },
 "nbformat": 4,
 "nbformat_minor": 5
}
